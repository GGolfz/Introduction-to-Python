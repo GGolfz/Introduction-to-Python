{
  "nbformat": 4,
  "nbformat_minor": 0,
  "metadata": {
    "colab": {
      "name": "Introduction to Python.ipynb",
      "provenance": [],
      "authorship_tag": "ABX9TyOCyP7eQaSgBshBE6TCJLPa",
      "include_colab_link": true
    },
    "kernelspec": {
      "name": "python3",
      "display_name": "Python 3"
    },
    "language_info": {
      "name": "python"
    }
  },
  "cells": [
    {
      "cell_type": "markdown",
      "metadata": {
        "id": "view-in-github",
        "colab_type": "text"
      },
      "source": [
        "<a href=\"https://colab.research.google.com/github/GGolfz/Introduction-to-Python/blob/main/Introduction_to_Python.ipynb\" target=\"_parent\"><img src=\"https://colab.research.google.com/assets/colab-badge.svg\" alt=\"Open In Colab\"/></a>"
      ]
    },
    {
      "cell_type": "markdown",
      "metadata": {
        "id": "HRSYUk3rjTUD"
      },
      "source": [
        "# Variable "
      ]
    },
    {
      "cell_type": "markdown",
      "metadata": {
        "id": "OjZVQKkzjgtJ"
      },
      "source": [
        "## Numerical variable"
      ]
    },
    {
      "cell_type": "code",
      "metadata": {
        "id": "lDqxIAyejRYP"
      },
      "source": [
        "a = 1\n",
        "b = 3.5"
      ],
      "execution_count": null,
      "outputs": []
    },
    {
      "cell_type": "code",
      "metadata": {
        "colab": {
          "base_uri": "https://localhost:8080/"
        },
        "id": "I2yzipFFkOEE",
        "outputId": "68d58503-7478-4999-ef3f-66cfaecb16f4"
      },
      "source": [
        "a+b"
      ],
      "execution_count": null,
      "outputs": [
        {
          "output_type": "execute_result",
          "data": {
            "text/plain": [
              "4.5"
            ]
          },
          "metadata": {
            "tags": []
          },
          "execution_count": 3
        }
      ]
    },
    {
      "cell_type": "markdown",
      "metadata": {
        "id": "S9284pPujzy_"
      },
      "source": [
        "## String Variable"
      ]
    },
    {
      "cell_type": "markdown",
      "metadata": {
        "id": "r1lpsfIakAvk"
      },
      "source": [
        "In python the text inside  \" \" and ' ' will counted as the character althrough it is a number. "
      ]
    },
    {
      "cell_type": "code",
      "metadata": {
        "id": "-bbur49vj4I4"
      },
      "source": [
        "a = \"Hello\"\n",
        "b = \"World\""
      ],
      "execution_count": null,
      "outputs": []
    },
    {
      "cell_type": "code",
      "metadata": {
        "colab": {
          "base_uri": "https://localhost:8080/",
          "height": 35
        },
        "id": "CYmGq77Uj8kx",
        "outputId": "2db7d810-19ec-4958-b114-760a50fae495"
      },
      "source": [
        "a+b"
      ],
      "execution_count": null,
      "outputs": [
        {
          "output_type": "execute_result",
          "data": {
            "application/vnd.google.colaboratory.intrinsic+json": {
              "type": "string"
            },
            "text/plain": [
              "'HelloWorld'"
            ]
          },
          "metadata": {
            "tags": []
          },
          "execution_count": 5
        }
      ]
    },
    {
      "cell_type": "markdown",
      "metadata": {
        "id": "MVivjYe_kYpD"
      },
      "source": [
        "# Data Types"
      ]
    },
    {
      "cell_type": "markdown",
      "metadata": {
        "id": "hiwD1Y_PkdpS"
      },
      "source": [
        "## Number"
      ]
    },
    {
      "cell_type": "markdown",
      "metadata": {
        "id": "q8OsS_L5kkpj"
      },
      "source": [
        "### Integer"
      ]
    },
    {
      "cell_type": "code",
      "metadata": {
        "colab": {
          "base_uri": "https://localhost:8080/"
        },
        "id": "NEW1d3orkoZg",
        "outputId": "b8013db6-a436-4011-b3e7-038a708841e5"
      },
      "source": [
        "a = 4\n",
        "print(a)\n",
        "print(type(a))"
      ],
      "execution_count": null,
      "outputs": [
        {
          "output_type": "stream",
          "text": [
            "4\n",
            "<class 'int'>\n"
          ],
          "name": "stdout"
        }
      ]
    },
    {
      "cell_type": "markdown",
      "metadata": {
        "id": "486wz_N0kmF_"
      },
      "source": [
        "### Floating"
      ]
    },
    {
      "cell_type": "code",
      "metadata": {
        "colab": {
          "base_uri": "https://localhost:8080/"
        },
        "id": "VkF57YtgkrSa",
        "outputId": "b7f21d49-7164-4568-883c-948c5cd167d6"
      },
      "source": [
        "a = 2.5\n",
        "print(type(a))"
      ],
      "execution_count": null,
      "outputs": [
        {
          "output_type": "stream",
          "text": [
            "<class 'float'>\n"
          ],
          "name": "stdout"
        }
      ]
    },
    {
      "cell_type": "markdown",
      "metadata": {
        "id": "d4gUpG0Kk1KL"
      },
      "source": [
        "### Operation of Number"
      ]
    },
    {
      "cell_type": "code",
      "metadata": {
        "colab": {
          "base_uri": "https://localhost:8080/"
        },
        "id": "w0AwY-N5k3PC",
        "outputId": "2e1a252b-595f-41c5-8194-63e67601de7d"
      },
      "source": [
        "a = 4\n",
        "b = 2\n",
        "print(a+b) # Add\n",
        "print(a-b) # Minus\n",
        "print(a*b) # Multiple\n",
        "print(a/b) # Divide\n",
        "print(a**b) # Power (a power by b)\n",
        "print(a**(1/b)) # Root (bth root of a)\n",
        "print(a%b) # Modulo"
      ],
      "execution_count": null,
      "outputs": [
        {
          "output_type": "stream",
          "text": [
            "6\n",
            "2\n",
            "8\n",
            "2.0\n",
            "16\n",
            "2.0\n",
            "0\n"
          ],
          "name": "stdout"
        }
      ]
    },
    {
      "cell_type": "markdown",
      "metadata": {
        "id": "RUuYGyc2kfcQ"
      },
      "source": [
        "## String"
      ]
    },
    {
      "cell_type": "markdown",
      "metadata": {
        "id": "wVYC4tQNldbT"
      },
      "source": [
        "## Concatination string variable for printing"
      ]
    },
    {
      "cell_type": "code",
      "metadata": {
        "colab": {
          "base_uri": "https://localhost:8080/"
        },
        "id": "ZhhCtrX1lgvR",
        "outputId": "7b9568f1-7b21-4bbc-a9c3-6fadc1e17329"
      },
      "source": [
        "a = \"Hello\"\n",
        "b = \"World\"\n",
        "print(a + ' ' + b)\n",
        "print(a,b)\n",
        "print('%s %s' %(a,b))\n",
        "print(\"{} {}\".format(a,b))\n",
        "print(f\"{a} {b}\")"
      ],
      "execution_count": null,
      "outputs": [
        {
          "output_type": "stream",
          "text": [
            "Hello World\n",
            "Hello World\n",
            "Hello World\n",
            "Hello World\n",
            "Hello World\n"
          ],
          "name": "stdout"
        }
      ]
    },
    {
      "cell_type": "markdown",
      "metadata": {
        "id": "rgHUnSgWma1G"
      },
      "source": [
        "## Type Casting"
      ]
    },
    {
      "cell_type": "code",
      "metadata": {
        "colab": {
          "base_uri": "https://localhost:8080/"
        },
        "id": "W3m72LUymd9E",
        "outputId": "7c013363-a78d-48b7-fe20-6f08c42180b1"
      },
      "source": [
        "a = 5\n",
        "b = str(a)\n",
        "c = int(b)\n",
        "d = float(a)\n",
        "e = float(b)\n",
        "f = str(d)\n",
        "print(a,type(a))\n",
        "print(b,type(b))\n",
        "print(c,type(c))\n",
        "print(d,type(d))\n",
        "print(e,type(e))\n",
        "print(f,type(f))"
      ],
      "execution_count": null,
      "outputs": [
        {
          "output_type": "stream",
          "text": [
            "5 <class 'int'>\n",
            "5 <class 'str'>\n",
            "5 <class 'int'>\n",
            "5.0 <class 'float'>\n",
            "5.0 <class 'float'>\n",
            "5.0 <class 'str'>\n"
          ],
          "name": "stdout"
        }
      ]
    },
    {
      "cell_type": "markdown",
      "metadata": {
        "id": "WyD0OCZcm03I"
      },
      "source": [
        "## Access Character of String"
      ]
    },
    {
      "cell_type": "code",
      "metadata": {
        "colab": {
          "base_uri": "https://localhost:8080/"
        },
        "id": "SN-RoOIEm4Cf",
        "outputId": "9054eb70-128e-421b-9c78-61a14fcca754"
      },
      "source": [
        "a = \"Hello World\"\n",
        "print(a) # Access All String\n",
        "print(a[0]) # Access index 0 of String\n",
        "print(a[2]) # Access index 2 of String\n",
        "print(a[2:4]) # Access index 2 to 3 of String\n",
        "print(a[6:]) # Access from index 6 to the end of Strng\n",
        "print(a[:3]) # Access from the beginning to index 2 of String\n",
        "print(a[:-2]) # Access from the beginning until String has 2 characters left\n",
        "print(a[0:4:2]) # Access from index 0 to 3 and step by 2 [0,2]\n",
        "print(a[::-1]) # Access All String step by -1 (Backward)\n",
        "print(a[3::3]) # Access from index 3 to the end step by 3 [3,6,9]"
      ],
      "execution_count": null,
      "outputs": [
        {
          "output_type": "stream",
          "text": [
            "Hello World\n",
            "H\n",
            "l\n",
            "ll\n",
            "World\n",
            "Hel\n",
            "Hello Wor\n",
            "Hl\n",
            "dlroW olleH\n",
            "lWl\n"
          ],
          "name": "stdout"
        }
      ]
    },
    {
      "cell_type": "markdown",
      "metadata": {
        "id": "GoQr1gk1n2UK"
      },
      "source": [
        "## String Function"
      ]
    },
    {
      "cell_type": "code",
      "metadata": {
        "colab": {
          "base_uri": "https://localhost:8080/"
        },
        "id": "B1afrU6vn4Nt",
        "outputId": "1b8e7183-fa32-4a38-fb7e-bce912f065ea"
      },
      "source": [
        "a = \" Hello World. \"\n",
        "print(a.lower()) # Lower case\n",
        "print(a.upper()) # Upper case\n",
        "print(a.split()) # split to list of char\n",
        "print(a.split('l')) # split by given string\n",
        "print(a.strip()) # remove space in the front and end of string"
      ],
      "execution_count": null,
      "outputs": [
        {
          "output_type": "stream",
          "text": [
            " hello world. \n",
            " HELLO WORLD. \n",
            "['Hello', 'World.']\n",
            "[' He', '', 'o Wor', 'd. ']\n",
            "Hello World.\n"
          ],
          "name": "stdout"
        }
      ]
    }
  ]
}